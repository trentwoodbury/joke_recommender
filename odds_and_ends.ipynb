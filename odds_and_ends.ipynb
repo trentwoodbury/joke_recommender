{
 "cells": [
  {
   "cell_type": "code",
   "execution_count": 1,
   "metadata": {
    "collapsed": false
   },
   "outputs": [
    {
     "name": "stdout",
     "output_type": "stream",
     "text": [
      "This non-commercial license of GraphLab Create for academic use is assigned to thedavehogue@gmail.com and will expire on October 06, 2017.\n"
     ]
    },
    {
     "name": "stderr",
     "output_type": "stream",
     "text": [
      "[INFO] graphlab.cython.cy_server: GraphLab Create v2.1 started. Logging: /tmp/graphlab_server_1475869428.log\n"
     ]
    }
   ],
   "source": [
    "from bs4 import BeautifulSoup\n",
    "import graphlab as gl\n",
    "import matplotlib.pyplot as plt\n",
    "%matplotlib inline\n",
    "import numpy as np\n",
    "import pandas as pd\n"
   ]
  },
  {
   "cell_type": "code",
   "execution_count": 2,
   "metadata": {
    "collapsed": false
   },
   "outputs": [],
   "source": [
    "ratings = pd.read_table('data/ratings.dat')\n",
    "jokes_list = []\n",
    "\n",
    "def get_jokes(file_path):\n",
    "    with open(file_path) as jokes:\n",
    "        tree = BeautifulSoup(jokes)\n",
    "        line = tree.findAll('p')\n",
    "        jokes_list.extend(line)\n",
    "\n",
    "    f_j_l = []\n",
    "    for indx, joke in enumerate(jokes_list):\n",
    "        joke = str(joke)\n",
    "        joke = joke.replace(\"<p>\", \"\")\n",
    "        joke = joke.replace(\"<br/>\", \"\\n\")\n",
    "        joke = joke.replace(\"</p>\", \"\")\n",
    "        f_j_l.append(joke)\n",
    "\n",
    "    #0th element of f_j_l is number for some reason. \n",
    "    joke_series = pd.Series(f_j_l[1:])\n",
    "    return joke_series"
   ]
  },
  {
   "cell_type": "code",
   "execution_count": 3,
   "metadata": {
    "collapsed": false
   },
   "outputs": [
    {
     "name": "stdout",
     "output_type": "stream",
     "text": [
      "\n",
      "A horse walks into a bar. The bartender asks:\n",
      "\n",
      "\n",
      "\r\n",
      "\"So, why the long face?\"\n",
      "\n"
     ]
    },
    {
     "name": "stderr",
     "output_type": "stream",
     "text": [
      "/Users/dave_hogue/anaconda/envs/gl-env/lib/python2.7/site-packages/bs4/__init__.py:181: UserWarning: No parser was explicitly specified, so I'm using the best available HTML parser for this system (\"lxml\"). This usually isn't a problem, but if you run this code on another system, or in a different virtual environment, it may use a different parser and behave differently.\n",
      "\n",
      "The code that caused this warning is on line 174 of the file /Users/dave_hogue/anaconda/envs/gl-env/lib/python2.7/runpy.py. To get rid of this warning, change code that looks like this:\n",
      "\n",
      " BeautifulSoup([your markup])\n",
      "\n",
      "to this:\n",
      "\n",
      " BeautifulSoup([your markup], \"lxml\")\n",
      "\n",
      "  markup_type=markup_type))\n"
     ]
    }
   ],
   "source": [
    "jokes = get_jokes('data/jokes.dat')\n",
    "print jokes[43]"
   ]
  },
  {
   "cell_type": "code",
   "execution_count": 4,
   "metadata": {
    "collapsed": false
   },
   "outputs": [],
   "source": [
    "def get_recs(submission):\n",
    "    sample_sub = pd.read_csv(submission)\n",
    "    for_prediction = gl.SFrame(sample_sub)\n",
    "#     recommendations = rec_engine.recommend(for_prediction['user_id'])\n",
    "    sample_sub.rating = rec_engine.predict(for_prediction)\n",
    "    sample_sub.to_csv(\"data/test_ratings.csv\", index=False)"
   ]
  },
  {
   "cell_type": "code",
   "execution_count": 5,
   "metadata": {
    "collapsed": false
   },
   "outputs": [
    {
     "ename": "NameError",
     "evalue": "global name 'rec_engine' is not defined",
     "output_type": "error",
     "traceback": [
      "\u001b[0;31m---------------------------------------------------------------------------\u001b[0m",
      "\u001b[0;31mNameError\u001b[0m                                 Traceback (most recent call last)",
      "\u001b[0;32m<ipython-input-5-a799000aeb2e>\u001b[0m in \u001b[0;36m<module>\u001b[0;34m()\u001b[0m\n\u001b[0;32m----> 1\u001b[0;31m \u001b[0mget_recs\u001b[0m\u001b[0;34m(\u001b[0m\u001b[0;34m\"data/sample_submission.csv\"\u001b[0m\u001b[0;34m)\u001b[0m\u001b[0;34m\u001b[0m\u001b[0m\n\u001b[0m",
      "\u001b[0;32m<ipython-input-4-1a47ff560136>\u001b[0m in \u001b[0;36mget_recs\u001b[0;34m(submission)\u001b[0m\n\u001b[1;32m      3\u001b[0m     \u001b[0mfor_prediction\u001b[0m \u001b[0;34m=\u001b[0m \u001b[0mgl\u001b[0m\u001b[0;34m.\u001b[0m\u001b[0mSFrame\u001b[0m\u001b[0;34m(\u001b[0m\u001b[0msample_sub\u001b[0m\u001b[0;34m)\u001b[0m\u001b[0;34m\u001b[0m\u001b[0m\n\u001b[1;32m      4\u001b[0m \u001b[0;31m#     recommendations = rec_engine.recommend(for_prediction['user_id'])\u001b[0m\u001b[0;34m\u001b[0m\u001b[0;34m\u001b[0m\u001b[0m\n\u001b[0;32m----> 5\u001b[0;31m     \u001b[0msample_sub\u001b[0m\u001b[0;34m.\u001b[0m\u001b[0mrating\u001b[0m \u001b[0;34m=\u001b[0m \u001b[0mrec_engine\u001b[0m\u001b[0;34m.\u001b[0m\u001b[0mpredict\u001b[0m\u001b[0;34m(\u001b[0m\u001b[0mfor_prediction\u001b[0m\u001b[0;34m)\u001b[0m\u001b[0;34m\u001b[0m\u001b[0m\n\u001b[0m\u001b[1;32m      6\u001b[0m     \u001b[0msample_sub\u001b[0m\u001b[0;34m.\u001b[0m\u001b[0mto_csv\u001b[0m\u001b[0;34m(\u001b[0m\u001b[0;34m\"data/test_ratings.csv\"\u001b[0m\u001b[0;34m,\u001b[0m \u001b[0mindex\u001b[0m\u001b[0;34m=\u001b[0m\u001b[0mFalse\u001b[0m\u001b[0;34m)\u001b[0m\u001b[0;34m\u001b[0m\u001b[0m\n",
      "\u001b[0;31mNameError\u001b[0m: global name 'rec_engine' is not defined"
     ]
    }
   ],
   "source": [
    "get_recs(\"data/sample_submission.csv\")"
   ]
  },
  {
   "cell_type": "code",
   "execution_count": 6,
   "metadata": {
    "collapsed": true
   },
   "outputs": [],
   "source": [
    "joke_avg = ratings[['joke_id', 'rating']].groupby('joke_id').mean()"
   ]
  },
  {
   "cell_type": "code",
   "execution_count": 10,
   "metadata": {
    "collapsed": false
   },
   "outputs": [],
   "source": [
    "top_5 = joke_avg.sort_values('rating')[-1:-6:-1]"
   ]
  },
  {
   "cell_type": "code",
   "execution_count": 11,
   "metadata": {
    "collapsed": false
   },
   "outputs": [
    {
     "data": {
      "text/plain": [
       "Int64Index([1, 106, 54, 90, 36], dtype='int64', name=u'joke_id')"
      ]
     },
     "execution_count": 11,
     "metadata": {},
     "output_type": "execute_result"
    }
   ],
   "source": [
    "top_5.index"
   ]
  },
  {
   "cell_type": "code",
   "execution_count": 15,
   "metadata": {
    "collapsed": false
   },
   "outputs": [
    {
     "name": "stdout",
     "output_type": "stream",
     "text": [
      "\r\n",
      "This couple had an excellent relationship going until one day he came home from work to find his girlfriend packing. He asked her why she was leaving him and she told him that she had heard awful things about him. \n",
      "\n",
      "\n",
      "\r\n",
      "\"What could they possibly have said to make you move out?\"\n",
      "\n",
      "\n",
      "\r\n",
      "\"They told me that you were a pedophile.\"\n",
      "\n",
      "\n",
      "\r\n",
      "He replied, \"That's an awfully big word for a ten year old.\"\r\n",
      "\n",
      "\n",
      "(A) The Japanese eat very little fat and suffer fewer heart attacks than the British or Americans. \n",
      "\n",
      "\n",
      "\r\n",
      "(B) On the other hand, the French eat a lot of fat and also suffer fewer heart attacks than the British or Americans. \n",
      "\n",
      "\n",
      "\r\n",
      "(C) The Chinese drink very little red wine and suffer fewer heart attacks than the British or Americans. \n",
      "\n",
      "\n",
      "\r\n",
      "(D) The Italians drink excessive amounts of red wine and also suffer fewer heart attacks than the British or Americans.\n",
      "\n",
      "\n",
      "\r\n",
      "(E) Conclusion: Eat and drink what you like. It's speaking English that kills you.\n",
      "\n",
      "\n",
      "A woman has twins, and gives them up for adoption. One of them goes to a family in Egypt and is named \"Amal.\" The other goes to a family in Spain; they name him \"Juan.\" Years later, Juan sends a picture of himself to his mom. Upon receiving the picture, she tells her husband that she wishes she also had a picture of Amal.\n",
      "\n",
      "\n",
      "\r\n",
      "Her husband responds, \"But they are twins--if you've seen Juan, you've seen Amal.\"\n",
      "\n",
      "\n",
      "A Panda walks into a bar, sits down at a table and orders a beer and a double cheeseburger. After he is finished eating, he pulls out a gun and rips the place with gunfire. Patrons scatter and dive under chairs and tables as the bear runs out the door. After ensuring that no one is hurt, the bartender races out the door, and calls after the bear: \"What the hell did you do that for?\" The bear calls back, \"I'm a Panda. Look it up in the dictionary.\"\n",
      "\n",
      "\n",
      "\r\n",
      "The bartender returns, pulls out his dictionary.\n",
      "\n",
      "\n",
      "\r\n",
      "panda: \\Pan\"da\\, n. (Zo[\"o]l.)\n",
      "\r\n",
      "A small Asiatic mammal (Ailurus fulgens) having fine soft fur. It is related to the bears, and inhabits the mountains of Northern India. Eats shoots and leaves.\n",
      "\n",
      "\n",
      "A Jewish young man was seeing a psychiatrist for an eating and sleeping disorder.\n",
      "\n",
      "\n",
      "\r\n",
      "\"I am so obsessed with my mother...As soon as I go to sleep, I start dreaming, and everyone in my dream turns into my mother. I wake up in such a state, and all I can do is go downstairs and eat a piece of toast.\"\n",
      "\n",
      "\n",
      "\r\n",
      "The psychiatrist replies, \"What, just one piece of toast, for a big boy like you?\"\n",
      "\n"
     ]
    }
   ],
   "source": [
    "for joke in jokes[top_5.index]:\n",
    "    print joke"
   ]
  },
  {
   "cell_type": "code",
   "execution_count": null,
   "metadata": {
    "collapsed": true
   },
   "outputs": [],
   "source": []
  }
 ],
 "metadata": {
  "anaconda-cloud": {},
  "kernelspec": {
   "display_name": "Python [default]",
   "language": "python",
   "name": "python2"
  },
  "language_info": {
   "codemirror_mode": {
    "name": "ipython",
    "version": 2
   },
   "file_extension": ".py",
   "mimetype": "text/x-python",
   "name": "python",
   "nbconvert_exporter": "python",
   "pygments_lexer": "ipython2",
   "version": "2.7.12"
  }
 },
 "nbformat": 4,
 "nbformat_minor": 1
}
